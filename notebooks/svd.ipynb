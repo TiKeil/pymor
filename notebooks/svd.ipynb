{
 "cells": [
  {
   "cell_type": "raw",
   "metadata": {},
   "source": [
    "This file is part of the pyMOR project (http://www.pymor.org).\n",
    "Copyright 2013-2019 pyMOR developers and contributors. All rights reserved.\n",
    "License: BSD 2-Clause License (http://opensource.org/licenses/BSD-2-Clause)"
   ]
  },
  {
   "cell_type": "code",
   "execution_count": null,
   "metadata": {},
   "outputs": [],
   "source": [
    "import numpy as np\n",
    "import scipy.linalg as spla\n",
    "import matplotlib.pyplot as plt\n",
    "from matplotlib.ticker import MaxNLocator\n",
    "\n",
    "from pymor.algorithms.pod import pod\n",
    "from pymor.algorithms.qr_svd import qr_svd\n",
    "from pymor.vectorarrays.numpy import NumpyVectorSpace"
   ]
  },
  {
   "cell_type": "markdown",
   "metadata": {},
   "source": [
    "# Setup"
   ]
  },
  {
   "cell_type": "code",
   "execution_count": null,
   "metadata": {},
   "outputs": [],
   "source": [
    "n = 1000\n",
    "m = 20\n",
    "random = np.random.RandomState(0)\n",
    "U0 = spla.qr(random.standard_normal((n, m)), mode='economic')[0]\n",
    "s0 = np.logspace(-20, 2, m)[::-1]\n",
    "Vh0 = spla.qr(random.standard_normal((m, m)), mode='economic')[0]\n",
    "A = U0 * s0 @ Vh0.T\n",
    "Ava = NumpyVectorSpace(n).from_numpy(A.T)"
   ]
  },
  {
   "cell_type": "code",
   "execution_count": null,
   "metadata": {},
   "outputs": [],
   "source": [
    "U, s, Vh = spla.svd(A, lapack_driver='gesvd')"
   ]
  },
  {
   "cell_type": "code",
   "execution_count": null,
   "metadata": {},
   "outputs": [],
   "source": [
    "fig, ax = plt.subplots()\n",
    "ax.xaxis.set_major_locator(MaxNLocator(integer=True))\n",
    "ax.semilogy(s0, '.-', label='Exact')\n",
    "ax.semilogy(s, '.-', label='GESVD')\n",
    "ax.set_title('Singular values')\n",
    "ax.legend()\n",
    "plt.show()"
   ]
  },
  {
   "cell_type": "code",
   "execution_count": null,
   "metadata": {},
   "outputs": [],
   "source": [
    "fig, ax = plt.subplots()\n",
    "ax.xaxis.set_major_locator(MaxNLocator(integer=True))\n",
    "ax.semilogy(np.abs(s - s0) / s0, '.-')\n",
    "ax.set_title('Relative error of GESVD singular values')\n",
    "plt.show()"
   ]
  },
  {
   "cell_type": "code",
   "execution_count": null,
   "metadata": {},
   "outputs": [],
   "source": [
    "fig, ax = plt.subplots()\n",
    "ax.xaxis.set_major_locator(MaxNLocator(integer=True))\n",
    "ax.semilogy([spla.norm(U[:, :r] - U0[:, :r] @ U0[:, :r].T @ U[:, :r], ord=2)\n",
    "             for r in range(1, m + 1)], '.-')\n",
    "ax.set_title('Errors in dominant left subspaces')\n",
    "plt.show()"
   ]
  },
  {
   "cell_type": "markdown",
   "metadata": {},
   "source": [
    "# POD"
   ]
  },
  {
   "cell_type": "code",
   "execution_count": null,
   "metadata": {},
   "outputs": [],
   "source": [
    "U_pod, s_pod = pod(Ava, rtol=0)\n",
    "U_pod = U_pod.to_numpy().T"
   ]
  },
  {
   "cell_type": "code",
   "execution_count": null,
   "metadata": {},
   "outputs": [],
   "source": [
    "len(s_pod)"
   ]
  },
  {
   "cell_type": "code",
   "execution_count": null,
   "metadata": {},
   "outputs": [],
   "source": [
    "fig, ax = plt.subplots()\n",
    "ax.xaxis.set_major_locator(MaxNLocator(integer=True))\n",
    "ax.semilogy(s0, '.-', label='Exact')\n",
    "ax.semilogy(s, '.-', label='GESVD')\n",
    "ax.semilogy(s_pod, '.-', label='POD')\n",
    "ax.set_title('Singular values')\n",
    "ax.legend()\n",
    "plt.show()"
   ]
  },
  {
   "cell_type": "code",
   "execution_count": null,
   "metadata": {},
   "outputs": [],
   "source": [
    "fig, ax = plt.subplots()\n",
    "ax.xaxis.set_major_locator(MaxNLocator(integer=True))\n",
    "ax.semilogy(np.abs(s_pod - s0[:len(s_pod)]) / s0[:len(s_pod)], '.-')\n",
    "ax.set_title('Relative distance of POD and exact singular values')\n",
    "plt.show()"
   ]
  },
  {
   "cell_type": "code",
   "execution_count": null,
   "metadata": {},
   "outputs": [],
   "source": [
    "fig, ax = plt.subplots()\n",
    "ax.xaxis.set_major_locator(MaxNLocator(integer=True))\n",
    "ax.semilogy(np.abs(s_pod - s[:len(s_pod)]) / s[:len(s_pod)], '.-')\n",
    "ax.set_title('Relative distance of POD and GESVD singular values')\n",
    "plt.show()"
   ]
  },
  {
   "cell_type": "code",
   "execution_count": null,
   "metadata": {},
   "outputs": [],
   "source": [
    "fig, ax = plt.subplots()\n",
    "ax.xaxis.set_major_locator(MaxNLocator(integer=True))\n",
    "ax.semilogy([spla.norm(U[:, :r] - U0[:, :r] @ U0[:, :r].T @ U[:, :r], ord=2)\n",
    "             for r in range(1, m + 1)], '.-', label='GESVD - Exact')\n",
    "ax.semilogy([spla.norm(U_pod[:, :r] - U0[:, :r] @ U0[:, :r].T @ U_pod[:, :r], ord=2)\n",
    "             for r in range(1, len(s_pod))], '.-', label='POD - Exact')\n",
    "ax.semilogy([spla.norm(U_pod[:, :r] - U[:, :r] @ U[:, :r].T @ U_pod[:, :r], ord=2)\n",
    "             for r in range(1, len(s_pod))], '.--', label='POD - GESVD')\n",
    "ax.set_title('Errors in dominant left subspaces')\n",
    "ax.legend()\n",
    "plt.show()"
   ]
  },
  {
   "cell_type": "markdown",
   "metadata": {},
   "source": [
    "# QR + SVD"
   ]
  },
  {
   "cell_type": "code",
   "execution_count": null,
   "metadata": {},
   "outputs": [],
   "source": [
    "U_qr, s_qr, Vh_qr = qr_svd(Ava)\n",
    "U_qr = U_qr.to_numpy().T"
   ]
  },
  {
   "cell_type": "code",
   "execution_count": null,
   "metadata": {},
   "outputs": [],
   "source": [
    "fig, ax = plt.subplots()\n",
    "ax.xaxis.set_major_locator(MaxNLocator(integer=True))\n",
    "ax.semilogy(s0, '.-', label='Exact')\n",
    "ax.semilogy(s, '.-', label='GESVD')\n",
    "ax.semilogy(s_qr, '.-', label='Gram-Schmidt + SVD')\n",
    "ax.set_title('Singular values')\n",
    "ax.legend()\n",
    "plt.show()"
   ]
  },
  {
   "cell_type": "code",
   "execution_count": null,
   "metadata": {},
   "outputs": [],
   "source": [
    "fig, ax = plt.subplots()\n",
    "ax.xaxis.set_major_locator(MaxNLocator(integer=True))\n",
    "ax.semilogy(np.abs(s_qr - s0) / s0, '.-')\n",
    "ax.set_title('Relative distance of Gram-Schmidt+SVD and exact singular values')\n",
    "plt.show()"
   ]
  },
  {
   "cell_type": "code",
   "execution_count": null,
   "metadata": {},
   "outputs": [],
   "source": [
    "fig, ax = plt.subplots()\n",
    "ax.xaxis.set_major_locator(MaxNLocator(integer=True))\n",
    "ax.semilogy(np.abs(s_qr - s) / s, '.-')\n",
    "ax.set_title('Relative distance of Gram-Schmidt+SVD and GESVD singular values')\n",
    "plt.show()"
   ]
  },
  {
   "cell_type": "code",
   "execution_count": null,
   "metadata": {},
   "outputs": [],
   "source": [
    "fig, ax = plt.subplots()\n",
    "ax.xaxis.set_major_locator(MaxNLocator(integer=True))\n",
    "ax.semilogy([spla.norm(U[:, :r] - U0[:, :r] @ U0[:, :r].T @ U[:, :r], ord=2)\n",
    "             for r in range(1, m + 1)], '.-', label='GESVD - Exact')\n",
    "ax.semilogy([spla.norm(U_qr[:, :r] - U0[:, :r] @ U0[:, :r].T @ U_qr[:, :r], ord=2)\n",
    "             for r in range(1, len(s_pod))], '.--', label='QR - Exact')\n",
    "ax.semilogy([spla.norm(U_qr[:, :r] - U[:, :r] @ U[:, :r].T @ U_qr[:, :r], ord=2)\n",
    "             for r in range(1, len(s_pod))], '.--', label='QR - GESVD')\n",
    "ax.set_title('Errors in dominant left subspaces')\n",
    "ax.legend()\n",
    "plt.show()"
   ]
  }
 ],
 "metadata": {
  "kernelspec": {
   "display_name": "Python 3",
   "language": "python",
   "name": "python3"
  },
  "language_info": {
   "codemirror_mode": {
    "name": "ipython",
    "version": 3
   },
   "file_extension": ".py",
   "mimetype": "text/x-python",
   "name": "python",
   "nbconvert_exporter": "python",
   "pygments_lexer": "ipython3",
   "version": "3.6.8"
  }
 },
 "nbformat": 4,
 "nbformat_minor": 2
}
